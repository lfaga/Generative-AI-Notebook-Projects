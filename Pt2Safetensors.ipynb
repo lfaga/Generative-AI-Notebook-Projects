{
  "nbformat": 4,
  "nbformat_minor": 0,
  "metadata": {
    "colab": {
      "provenance": [],
      "generative_ai_disabled": true
    },
    "kernelspec": {
      "name": "python3",
      "display_name": "Python 3"
    },
    "language_info": {
      "name": "python"
    }
  },
  "cells": [
    {
      "cell_type": "code",
      "source": [
        "#@title Setup Environment\n",
        "\n",
        "!pip install -q safetensors\n",
        "!pip install -q torch\n",
        "\n",
        "print(\"✅ Complete!\")"
      ],
      "metadata": {
        "id": "pF0G-NJCygqS"
      },
      "execution_count": null,
      "outputs": []
    },
    {
      "cell_type": "code",
      "execution_count": null,
      "metadata": {
        "id": "vSi7gOCstRYm"
      },
      "outputs": [],
      "source": [
        "#@title Conversion Logic\n",
        "import torch, os, pdb\n",
        "from safetensors.torch import save_file\n",
        "\n",
        "def convert_pt_to_safetensors(pt_path, safetensors_path):\n",
        "\n",
        "  # Load the state dictionary from the .pt file\n",
        "  # map_location='cpu' is used to load to CPU memory, preventing GPU memory issues\n",
        "  state_dict = torch.load(\n",
        "      os.path.join(\"/content\", pt_path),\n",
        "      map_location=torch.device('cpu'))\n",
        "\n",
        "  #pdb.set_trace()\n",
        "  # Save the state dictionary to .safetensors format\n",
        "  save_file(state_dict['string_to_param'], os.path.join(\"/content\", safetensors_path))\n",
        "  print(f\"Successfully converted '{pt_path}' to '{safetensors_path}'\")\n",
        "\n",
        "\n",
        "print(\"✅ Complete!\")"
      ]
    },
    {
      "cell_type": "code",
      "source": [
        "#@title Execution\n",
        "\n",
        "from google.colab import drive\n",
        "\n",
        "drive.mount('/content/drive')\n",
        "\n",
        "working_folder = \"/content/drive/My Drive/AI/Convert/\"\n",
        "!mkdir -p \"{working_folder}\"\n",
        "\n",
        "with os.scandir(working_folder) as entries:\n",
        "  for entry in entries:\n",
        "    if entry.is_file() and entry.name.endswith(\".pt\"):\n",
        "        safetensors_full_path = os.path.splitext(entry.path)[0] + \".safetensors\"\n",
        "        print(f\"Processing: {entry.path}\")\n",
        "        convert_pt_to_safetensors(entry.path, safetensors_full_path)\n",
        "        print(\"---\")\n",
        "\n",
        "print(\"✅ Complete!\")"
      ],
      "metadata": {
        "id": "t5yQRyQZtlC-"
      },
      "execution_count": null,
      "outputs": []
    }
  ]
}